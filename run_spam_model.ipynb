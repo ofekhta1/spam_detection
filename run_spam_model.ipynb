{
 "cells": [
  {
   "cell_type": "code",
   "execution_count": 1,
   "metadata": {},
   "outputs": [
    {
     "name": "stdout",
     "output_type": "stream",
     "text": [
      "This message is probably not a spam\n"
     ]
    }
   ],
   "source": [
    "import pickle\n",
    "from sklearn.feature_extraction.text import TfidfVectorizer\n",
    "\n",
    "with open(r'C:\\work\\python\\family_model\\scaler_spam.pkl', 'rb') as scaler_file:\n",
    "    scaler = pickle.load(scaler_file)\n",
    "with open(r'C:\\work\\python\\family_model\\spam_detection.pkl', 'rb') as model_file:\n",
    "    model = pickle.load(model_file)\n",
    "with open(r'C:\\work\\python\\family_model\\vectorizer_spam.pkl', 'rb') as vec_file:\n",
    "    vectorizer = pickle.load(vec_file)\n",
    "# Prediction on new data\n",
    "new_data = [\"\"]\n",
    "features = vectorizer.transform(new_data)\n",
    "features_scaled = scaler.transform(features)\n",
    "prediction = model.predict(features_scaled)\n",
    "\n",
    "if prediction[0] == 0:\n",
    "    print(\"This message is probably not a spam\")\n",
    "else:\n",
    "    print(\"This message is probably a spam\")\n"
   ]
  }
 ],
 "metadata": {
  "kernelspec": {
   "display_name": "Python 3",
   "language": "python",
   "name": "python3"
  },
  "language_info": {
   "codemirror_mode": {
    "name": "ipython",
    "version": 3
   },
   "file_extension": ".py",
   "mimetype": "text/x-python",
   "name": "python",
   "nbconvert_exporter": "python",
   "pygments_lexer": "ipython3",
   "version": "3.11.7"
  }
 },
 "nbformat": 4,
 "nbformat_minor": 2
}
